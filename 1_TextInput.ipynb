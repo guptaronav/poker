{
 "cells": [
  {
   "cell_type": "code",
   "execution_count": 1,
   "metadata": {},
   "outputs": [
    {
     "name": "stdout",
     "output_type": "stream",
     "text": [
      "pygame 1.9.6\n",
      "Hello from the pygame community. https://www.pygame.org/contribute.html\n"
     ]
    }
   ],
   "source": [
    "import pygame\n",
    "\n",
    "HEIGHT = 720\n",
    "WIDTH = 1280\n",
    "\n",
    "systemExit=False\n",
    "pygame.init()\n",
    "clock = pygame.time.Clock()\n",
    "screen = pygame.display.set_mode((WIDTH, HEIGHT), 0 ,32)\n",
    "base_font = pygame.font.Font(None,32)\n",
    "user_text = 'Write Text: '\n",
    "\n",
    "\n",
    "while True:\n",
    "    for event in pygame.event.get():\n",
    "        if event.type == pygame.QUIT:\n",
    "            pygame.quit()\n",
    "            systemExit=True;\n",
    "            break\n",
    "        if event.type == pygame.KEYDOWN:\n",
    "            if event.key == pygame.K_BACKSPACE:\n",
    "                user_text = user_text[:-1]\n",
    "            else:\n",
    "                user_text += event.unicode\n",
    "    \n",
    "    if systemExit==True:\n",
    "        break\n",
    "        \n",
    "    screen.fill((0,0,0))\n",
    "    text_surface = base_font.render(user_text,True,(255,255,255))\n",
    "    screen.blit(text_surface, (10,10))\n",
    "    \n",
    "    \n",
    "    pygame.display.flip()\n",
    "    clock.tick(60)\n",
    "\n",
    "exit()\n"
   ]
  },
  {
   "cell_type": "code",
   "execution_count": null,
   "metadata": {},
   "outputs": [],
   "source": []
  }
 ],
 "metadata": {
  "kernelspec": {
   "display_name": "Python 3",
   "language": "python",
   "name": "python3"
  },
  "language_info": {
   "codemirror_mode": {
    "name": "ipython",
    "version": 3
   },
   "file_extension": ".py",
   "mimetype": "text/x-python",
   "name": "python",
   "nbconvert_exporter": "python",
   "pygments_lexer": "ipython3",
   "version": "3.7.9"
  }
 },
 "nbformat": 4,
 "nbformat_minor": 4
}
