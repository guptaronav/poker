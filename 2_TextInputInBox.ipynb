{
 "cells": [
  {
   "cell_type": "code",
   "execution_count": null,
   "metadata": {},
   "outputs": [
    {
     "name": "stdout",
     "output_type": "stream",
     "text": [
      "pygame 1.9.6\n",
      "Hello from the pygame community. https://www.pygame.org/contribute.html\n"
     ]
    }
   ],
   "source": [
    "import pygame\n",
    "\n",
    "HEIGHT = 720\n",
    "WIDTH = 1280\n",
    "\n",
    "systemExit=False\n",
    "pygame.init()\n",
    "clock = pygame.time.Clock()\n",
    "screen = pygame.display.set_mode((WIDTH, HEIGHT), 0 ,32)\n",
    "base_font = pygame.font.Font(None,32)\n",
    "user_text = ''\n",
    "\n",
    "input_rect = pygame.Rect(200,200,140,32)\n",
    "color_active = pygame.Color('lightskyblue3')\n",
    "color_passive = pygame.Color('gray15')\n",
    "\n",
    "active = False\n",
    "\n",
    "while True:\n",
    "    for event in pygame.event.get():\n",
    "        if event.type == pygame.QUIT:\n",
    "            pygame.quit()\n",
    "            systemExit=True;\n",
    "            break\n",
    "        if event.type == pygame.MOUSEBUTTONDOWN:\n",
    "            if input_rect.collidepoint(event.pos):\n",
    "                active = True\n",
    "            else:\n",
    "                active = False\n",
    "        if event.type == pygame.KEYDOWN:\n",
    "            if active == True:\n",
    "                if event.key == pygame.K_BACKSPACE:\n",
    "                    user_text = user_text[:-1]\n",
    "                elif event.key == pygame.K_RETURN:\n",
    "                    user_text = user_text[:-1]\n",
    "                else:\n",
    "                    user_text += event.unicode\n",
    "    \n",
    "    if systemExit==True:\n",
    "        break\n",
    "        \n",
    "    screen.fill((0,0,0))\n",
    "    \n",
    "    if active:\n",
    "        color = color_active\n",
    "    else:\n",
    "        color = color_passive\n",
    "    \n",
    "    #Draw Rectangle with selected Color\n",
    "    pygame.draw.rect(screen,color,input_rect,2)\n",
    "    # Render Text\n",
    "    text_surface = base_font.render(user_text,True,(255,255,255))\n",
    "    # Show Text inside Rectangle\n",
    "    screen.blit(text_surface, (input_rect.x+5,input_rect.y+5))\n",
    "    # Make Rectangle grow with Text\n",
    "    input_rect.w = max(100,text_surface.get_width() + 10)\n",
    "    \n",
    "    pygame.display.flip()\n",
    "    clock.tick(60)\n",
    "\n",
    "exit()\n"
   ]
  },
  {
   "cell_type": "code",
   "execution_count": null,
   "metadata": {},
   "outputs": [],
   "source": []
  }
 ],
 "metadata": {
  "kernelspec": {
   "display_name": "Python 3",
   "language": "python",
   "name": "python3"
  },
  "language_info": {
   "codemirror_mode": {
    "name": "ipython",
    "version": 3
   },
   "file_extension": ".py",
   "mimetype": "text/x-python",
   "name": "python",
   "nbconvert_exporter": "python",
   "pygments_lexer": "ipython3",
   "version": "3.7.9"
  }
 },
 "nbformat": 4,
 "nbformat_minor": 4
}
